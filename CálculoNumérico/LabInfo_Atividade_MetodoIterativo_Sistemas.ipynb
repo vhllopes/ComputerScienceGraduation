{
  "cells": [
    {
      "cell_type": "markdown",
      "metadata": {
        "id": "mRLu65qFDq38"
      },
      "source": [
        "# **Atividade 1**\n",
        "\n",
        "Dada uma função $f(x)$, um intervalo $[a,b]$ contendo um único zero de $f(x)$ e uma precisão $\\varepsilon > 0$ , crie um código em Python que retorna uma aproximação do zero de $f(x)$ com precisão $\\varepsilon$ utilizando o Método da Bisseção."
      ]
    },
    {
      "cell_type": "code",
      "execution_count": null,
      "metadata": {
        "id": "EUk2JrNeDou5",
        "outputId": "f64707fb-9371-4df4-e018-63e49d18f8e2"
      },
      "outputs": [
        {
          "name": "stdout",
          "output_type": "stream",
          "text": [
            "Solução aproximada: 0.5\n"
          ]
        }
      ],
      "source": [
        "import numpy as np\n",
        "\n",
        "# Definição da função f(x)\n",
        "f = lambda x: x**3 - 4*x + 1  # Exemplo de função.\n",
        "\n",
        "# Limites do intervalo [a, b]\n",
        "a = 1  # Limite inferior do intervalo\n",
        "b = 0   # Limite superior do intervalo\n",
        "\n",
        "# Precisão desejada\n",
        "p = 1e-6  # Exemplo de precisão.\n",
        "\n",
        "def metodo_bissecao(f, a, b, epsilon):\n",
        "    # Verifica se os extremos do intervalo possuem sinais opostos\n",
        "    if f(a) * f(b) >= 0:\n",
        "        print(\"O método da bisseção não pode ser aplicado.\")\n",
        "        return None\n",
        "\n",
        "    # Iteração do método\n",
        "    while (b - a) / 2.0 > epsilon:\n",
        "        c = (a + b) / 2.0  # Ponto médio\n",
        "        if f(c) == 0:  # Encontrou a raiz exata\n",
        "            return c\n",
        "        elif f(a) * f(c) < 0:  # A raiz está no intervalo [a, c]\n",
        "            b = c\n",
        "        else:  # A raiz está no intervalo [c, b]\n",
        "            a = c\n",
        "\n",
        "    # Retorna a aproximação da raiz\n",
        "    return (a + b) / 2.0\n",
        "\n",
        "# Chama a função e calcula a solução\n",
        "solucao = metodo_bissecao(f, a, b, p)\n",
        "\n",
        "# Exibe a solução aproximada\n",
        "print(f\"Solução aproximada: {solucao}\")\n"
      ]
    },
    {
      "cell_type": "markdown",
      "metadata": {
        "id": "ybdoUN8NgYNO"
      },
      "source": [
        "# **Atividade 2**\n",
        "\n",
        "Utilizando o código de plotagem de gráficos e os códigos que você criou determine aproximações para soluções das equações abaixo com as precisões $\\varepsilon>0$ indicadas, pelo Método da Bisseção, seguindo o seguinte roteiro:\n",
        "\n",
        "**1)**  Plote o gráfico da função (ou funções) que pode ser obtida da equação;\n",
        "\n",
        "**2)** Utilizando o gráfico, escolha o intervalo que contém a solução;\n",
        "\n",
        "**3)** Utilize seu código para obter a solução aproximada.\n",
        "\n",
        "a) $e^x=5x+2$, $\\varepsilon = 0.0001$\n",
        "\n",
        "b) $2^{x-2} = 3^{3-x}$, $\\varepsilon = 0.01$\n",
        "\n",
        "\n",
        "**Observação:** Abaixo dessa Atividade crie uma ou mais células para a solução de cada item.\n"
      ]
    },
    {
      "cell_type": "markdown",
      "source": [
        "Item (a)\n",
        "𝑒\n",
        "𝑥\n",
        "=\n",
        "5\n",
        "𝑥\n",
        "+\n",
        "2\n",
        "e\n",
        "x\n",
        " =5x+2,\n",
        "𝜀\n",
        "=\n",
        "0.0001\n",
        "ε=0.0001"
      ],
      "metadata": {
        "id": "JqWX9q7aHH_o"
      }
    },
    {
      "cell_type": "code",
      "execution_count": 1,
      "metadata": {
        "colab": {
          "base_uri": "https://localhost:8080/",
          "height": 475
        },
        "id": "eC8Wg2pryTbk",
        "outputId": "9a7a4244-6cd7-467e-bbab-8d646c416c72"
      },
      "outputs": [
        {
          "output_type": "display_data",
          "data": {
            "text/plain": [
              "<Figure size 640x480 with 1 Axes>"
            ],
            "image/png": "[encoded data removed]"
          },
          "metadata": {}
        }
      ],
      "source": [
        "import numpy as np\n",
        "import matplotlib.pyplot as plt\n",
        "\n",
        "# Definindo a função f(x)\n",
        "f = lambda x: np.exp(x) - (5*x + 2)\n",
        "\n",
        "# Gerando valores de x para o gráfico\n",
        "x_vals = np.linspace(-2, 2, 400)\n",
        "y_vals = f(x_vals)\n",
        "\n",
        "# Plotando o gráfico\n",
        "plt.plot(x_vals, y_vals, label=r'$f(x) = e^x - (5x + 2)$')\n",
        "plt.axhline(0, color='black',linewidth=1)  # Linha horizontal em y=0\n",
        "plt.axvline(0, color='black',linewidth=1)  # Linha vertical em x=0\n",
        "plt.title('Gráfico de $f(x) = e^x - (5x + 2)$')\n",
        "plt.xlabel('x')\n",
        "plt.ylabel('f(x)')\n",
        "plt.grid(True)\n",
        "plt.legend()\n",
        "plt.show()\n"
      ]
    },
    {
      "cell_type": "code",
      "source": [
        "import numpy as np\n",
        "\n",
        "# Definição da função f(x)\n",
        "f = lambda x: np.exp(x) - (5*x + 2)  # Função da equação e^x = 5x + 2\n",
        "\n",
        "# Método da Bisseção\n",
        "def metodo_bissecao(f, a, b, epsilon):\n",
        "    # Verifica se os extremos do intervalo possuem sinais opostos\n",
        "    if f(a) * f(b) >= 0:\n",
        "        print(\"O método da bisseção não pode ser aplicado.\")\n",
        "        return None\n",
        "\n",
        "    # Iteração do método\n",
        "    while (b - a) / 2.0 > epsilon:\n",
        "        c = (a + b) / 2.0  # Ponto médio\n",
        "        if f(c) == 0:  # Encontrou a raiz exata\n",
        "            return c\n",
        "        elif f(a) * f(c) < 0:  # A raiz está no intervalo [a, c]\n",
        "            b = c\n",
        "        else:  # A raiz está no intervalo [c, b]\n",
        "            a = c\n",
        "\n",
        "    # Retorna a aproximação da raiz\n",
        "    return (a + b) / 2.0\n",
        "\n",
        "# Precisão desejada\n",
        "epsilon = 0.0001\n",
        "\n",
        "# Definindo o intervalo [a, b]\n",
        "a = -0.5\n",
        "b = 0.5\n",
        "\n",
        "# Chamando a função de bisseção para encontrar a solução\n",
        "solucao = metodo_bissecao(f, a, b, epsilon)\n",
        "\n",
        "# Exibindo a solução aproximada\n",
        "print(f\"Solução aproximada para a equação a): {solucao}\")\n"
      ],
      "metadata": {
        "colab": {
          "base_uri": "https://localhost:8080/"
        },
        "id": "Ld-gCmvXGbhE",
        "outputId": "6ab2d078-ff3a-4169-c825-11b6f894dba1"
      },
      "execution_count": 12,
      "outputs": [
        {
          "output_type": "stream",
          "name": "stdout",
          "text": [
            "Solução aproximada para a equação a): -0.24322509765625\n"
          ]
        }
      ]
    },
    {
      "cell_type": "markdown",
      "source": [
        "Item (b)\n",
        "2\n",
        "𝑥\n",
        "−\n",
        "2\n",
        "=\n",
        "3\n",
        "3\n",
        "−\n",
        "𝑥\n",
        "2\n",
        "x−2\n",
        " =3\n",
        "3−x\n",
        " ,\n",
        "𝜀\n",
        "=\n",
        "0.01\n",
        "ε=0.01"
      ],
      "metadata": {
        "id": "d8adBQhqHdvs"
      }
    },
    {
      "cell_type": "code",
      "source": [
        "# Definindo a função f(x) para o item (b)\n",
        "f_b = lambda x: 2**(x-2) - 3**(3-x)\n",
        "\n",
        "# Gerando valores de x para o gráfico\n",
        "x_vals_b = np.linspace(-2, 3, 400)\n",
        "y_vals_b = f_b(x_vals_b)\n",
        "\n",
        "# Plotando o gráfico\n",
        "plt.plot(x_vals_b, y_vals_b, label=r'$f(x) = 2^{x-2} - 3^{3-x}$')\n",
        "plt.axhline(0, color='black',linewidth=1)  # Linha horizontal em y=0\n",
        "plt.axvline(0, color='black',linewidth=1)  # Linha vertical em x=0\n",
        "plt.title('Gráfico de $f(x) = 2^{x-2} - 3^{3-x}$')\n",
        "plt.xlabel('x')\n",
        "plt.ylabel('f(x)')\n",
        "plt.grid(True)\n",
        "plt.legend()\n",
        "plt.show()\n"
      ],
      "metadata": {
        "colab": {
          "base_uri": "https://localhost:8080/",
          "height": 476
        },
        "id": "pENyt9puHhm1",
        "outputId": "4c174835-f87b-40d9-be45-fe1c1bd4b304"
      },
      "execution_count": 6,
      "outputs": [
        {
          "output_type": "display_data",
          "data": {
            "text/plain": [
              "<Figure size 640x480 with 1 Axes>"
            ],
            "image/png": "[encoded data removed]"
          },
          "metadata": {}
        }
      ]
    },
    {
      "cell_type": "code",
      "source": [
        "import numpy as np\n",
        "\n",
        "# Definição da função f_b(x) para o item b\n",
        "f_b = lambda x: 2**(x-2) - 3**(3-x)\n",
        "\n",
        "# Método da Bisseção (já definido no seu código anterior)\n",
        "def metodo_bissecao(f, a, b, epsilon):\n",
        "    # Verifica se os extremos do intervalo possuem sinais opostos\n",
        "    if f(a) * f(b) >= 0:\n",
        "        print(\"O método da bisseção não pode ser aplicado.\")\n",
        "        return None\n",
        "\n",
        "    # Iteração do método\n",
        "    while (b - a) / 2.0 > epsilon:\n",
        "        c = (a + b) / 2.0  # Ponto médio\n",
        "        if f(c) == 0:  # Encontrou a raiz exata\n",
        "            return c\n",
        "        elif f(a) * f(c) < 0:  # A raiz está no intervalo [a, c]\n",
        "            b = c\n",
        "        else:  # A raiz está no intervalo [c, b]\n",
        "            a = c\n",
        "\n",
        "    # Retorna a aproximação da raiz\n",
        "    return (a + b) / 2.0\n",
        "\n",
        "# Precisão desejada para o item b\n",
        "epsilon_b = 0.01\n",
        "\n",
        "# Definindo o intervalo [a, b] para o item b\n",
        "a_b = 2\n",
        "b_b = 3\n",
        "\n",
        "# Chamando o método da bisseção para a equação b\n",
        "solucao_b = metodo_bissecao(f_b, a_b, b_b, epsilon_b)\n",
        "\n",
        "# Exibindo a solução aproximada\n",
        "print(f\"Solução aproximada para a equação b): {solucao_b}\")\n"
      ],
      "metadata": {
        "colab": {
          "base_uri": "https://localhost:8080/"
        },
        "id": "ariUFoqnHph_",
        "outputId": "76d25f44-8dfd-4ab5-9ffc-01ec4ac745c2"
      },
      "execution_count": 11,
      "outputs": [
        {
          "output_type": "stream",
          "name": "stdout",
          "text": [
            "Solução aproximada para a equação b): 2.6171875\n"
          ]
        }
      ]
    },
    {
      "cell_type": "markdown",
      "metadata": {
        "id": "h3b_62F2dudr"
      },
      "source": [
        "# **Atividade 3**\n",
        "\n",
        "Dada uma função $f(x)$, uma aproximação inicial $x_0$ para um dos zeros de $f(x)$ e uma precisão $\\varepsilon > 0$, crie um código em Python que retorna uma aproximação do zero de $f(x)$ com precisão $\\varepsilon$ usando o Método de Newton-Raphson.\n",
        "\n",
        "**Observação 1:** A precisão deve ser medida como a distãncia entre termos consecutivos da sequência de aproximações geradas pelo métodos, como fizemos durante as aulas.\n",
        "\n",
        "**Observação 2:** O método de Newton-Raphson utiliza a derivada da função $f(x)$, cuja expressão já deve ser conhecida a priori para ser colocada no código. Outra possibilidade é utilizar o módulo **SymPy**, que serve para fazer declarar, utilizar e fazer operações com variáveis simbólicas, como por exemplo derivação e integração de funções e outras ferramentas do Cálculo. Veja https://docs.sympy.org/latest/tutorials/intro-tutorial/calculus.html  "
      ]
    },
    {
      "cell_type": "code",
      "execution_count": 13,
      "metadata": {
        "id": "HbFPRc79fcet",
        "colab": {
          "base_uri": "https://localhost:8080/"
        },
        "outputId": "3c562f0b-2d01-49b2-a886-2250ee7a8485"
      },
      "outputs": [
        {
          "output_type": "stream",
          "name": "stdout",
          "text": [
            "Solução aproximada: 1.3247179572447898\n"
          ]
        }
      ],
      "source": [
        "import sympy as sp\n",
        "\n",
        "# Definindo a variável simbólica\n",
        "x = sp.Symbol('x')\n",
        "\n",
        "# Definindo a função f(x)\n",
        "f = x**3 - x - 1  # Exemplo de função\n",
        "\n",
        "# Derivada de f(x) simbolicamente\n",
        "f_prime = sp.diff(f, x)\n",
        "\n",
        "# Convertendo f(x) e f'(x) em funções utilizáveis numericamente\n",
        "f_lambdified = sp.lambdify(x, f)  # f(x)\n",
        "f_prime_lambdified = sp.lambdify(x, f_prime)  # f'(x)\n",
        "\n",
        "# Método de Newton-Raphson\n",
        "def newton_raphson(f, f_prime, x0, epsilon):\n",
        "    max_iterations = 1000  # Limitar para evitar loops infinitos\n",
        "    x_n = x0\n",
        "    for n in range(max_iterations):\n",
        "        # Calcular o próximo termo da sequência de Newton-Raphson\n",
        "        x_n1 = x_n - f(x_n) / f_prime(x_n)\n",
        "\n",
        "        # Verificar se a precisão foi alcançada\n",
        "        if abs(x_n1 - x_n) < epsilon:\n",
        "            return x_n1  # Retorna a raiz aproximada\n",
        "\n",
        "        # Atualiza o valor de x para a próxima iteração\n",
        "        x_n = x_n1\n",
        "\n",
        "    print(\"O método não convergiu após o número máximo de iterações.\")\n",
        "    return None\n",
        "\n",
        "# Aproximação inicial e precisão desejada\n",
        "x0 = 1.5  # Aproximação inicial\n",
        "epsilon = 1e-6  # Precisão desejada\n",
        "\n",
        "# Aplicando o método de Newton-Raphson\n",
        "solucao = newton_raphson(f_lambdified, f_prime_lambdified, x0, epsilon)\n",
        "\n",
        "# Exibindo a solução aproximada\n",
        "if solucao is not None:\n",
        "    print(f\"Solução aproximada: {solucao}\")\n"
      ]
    },
    {
      "cell_type": "markdown",
      "metadata": {
        "id": "7JQus0SclWo6"
      },
      "source": [
        "# **Atividade 4**\n",
        "\n",
        "Utilizando o código de plotagem de gráficos e os códigos que você criou determine aproximações para as soluções das equações abaixo com as precisões $\\varepsilon>0$ indicadas, pelo Método de Newton-Raphson, seguindo o seguinte roteiro:\n",
        "\n",
        "**1)** Plote o gráfico da função (ou funções) que pode ser obtida da equação;\n",
        "\n",
        "**2)** Utilizando o gráfico, escolha o intervalo que contém a solução e uma aproximação inicial $x_0$;\n",
        "\n",
        "**3)** Utilize seu código para obter a solução aproximada.\n",
        "\n",
        "\n",
        "a) $e^{-x²}\\cdot \\sin x = 2- x^2$, $\\varepsilon = 10^{-7}$\n",
        "\n",
        "b) $x\\ln (2-x) = 3-x^2$, $\\varepsilon = 10^{-6}$.\n",
        "\n",
        "\n",
        "**Observação:** Abaixo dessa Atividade crie uma ou mais células para a solução de cada item."
      ]
    },
    {
      "cell_type": "markdown",
      "source": [
        "a)  **e−x²⋅sinx=2−x2 ,  ε=10−7**"
      ],
      "metadata": {
        "id": "LW09j_vAKRNb"
      }
    },
    {
      "cell_type": "code",
      "source": [
        "import numpy as np\n",
        "import sympy as sp\n",
        "import matplotlib.pyplot as plt\n",
        "\n",
        "# Definindo a variável simbólica\n",
        "x = sp.Symbol('x')\n",
        "\n",
        "# Função para plotar o gráfico\n",
        "def plot_function(f, intervalo, titulo):\n",
        "    # Função lambdificada para cálculo numérico\n",
        "    f_lambdified = sp.lambdify(x, f)\n",
        "\n",
        "    # Geração de valores de x no intervalo\n",
        "    x_vals = np.linspace(intervalo[0], intervalo[1], 400)\n",
        "\n",
        "    # Avaliação da função para os valores de x\n",
        "    y_vals = f_lambdified(x_vals)\n",
        "\n",
        "    # Plotando o gráfico\n",
        "    plt.plot(x_vals, y_vals, label=f'{f}')\n",
        "    plt.axhline(0, color='black',linewidth=0.5)  # Linha no eixo x\n",
        "    plt.title(titulo)\n",
        "    plt.xlabel('x')\n",
        "    plt.ylabel('f(x)')\n",
        "    plt.grid(True)\n",
        "    plt.legend()\n",
        "    plt.show()\n",
        "\n",
        "# Definição da função f(x) para o item a\n",
        "f_a = sp.exp(-x**2) * sp.sin(x) - (2 - x**2)\n",
        "\n",
        "# Plotando o gráfico da função\n",
        "plot_function(f_a, [-2, 2], 'Gráfico de f(x) para o item a')"
      ],
      "metadata": {
        "colab": {
          "base_uri": "https://localhost:8080/",
          "height": 472
        },
        "id": "rMMqfqWsKhbI",
        "outputId": "0a7ea411-6b0a-47aa-b1dc-b8de849fe28b"
      },
      "execution_count": 17,
      "outputs": [
        {
          "output_type": "display_data",
          "data": {
            "text/plain": [
              "<Figure size 640x480 with 1 Axes>"
            ],
            "image/png": "[encoded data removed]"
          },
          "metadata": {}
        }
      ]
    },
    {
      "cell_type": "code",
      "source": [
        "# Método de Newton-Raphson\n",
        "def newton_raphson(f, f_prime, x0, epsilon):\n",
        "    max_iterations = 1000  # Limite para evitar loops infinitos\n",
        "    x_n = x0\n",
        "    for n in range(max_iterations):\n",
        "        # Próxima iteração de Newton-Raphson\n",
        "        x_n1 = x_n - f(x_n) / f_prime(x_n)\n",
        "\n",
        "        # Verificar se a precisão foi atingida\n",
        "        if abs(x_n1 - x_n) < epsilon:\n",
        "            return x_n1  # Raiz aproximada\n",
        "\n",
        "        # Atualizar o valor de x\n",
        "        x_n = x_n1\n",
        "\n",
        "    print(\"O método não convergiu.\")\n",
        "    return None\n",
        "\n",
        "# Definição da função f(x) para o item a\n",
        "f_a = sp.exp(-x**2) * sp.sin(x) - (2 - x**2)\n",
        "\n",
        "# Derivada da função f_a simbolicamente\n",
        "f_a_prime = sp.diff(f_a, x)\n",
        "\n",
        "# Convertendo para funções numéricas\n",
        "f_a_lambdified = sp.lambdify(x, f_a)\n",
        "f_a_prime_lambdified = sp.lambdify(x, f_a_prime)\n",
        "\n",
        "# Aproximação inicial e precisão desejada\n",
        "x0_a = 1.5  # Aproximação inicial escolhida a partir do gráfico\n",
        "epsilon_a = 1e-7  # Precisão desejada\n",
        "\n",
        "# Aplicando o método de Newton-Raphson\n",
        "solucao_a = newton_raphson(f_a_lambdified, f_a_prime_lambdified, x0_a, epsilon_a)\n",
        "\n",
        "# Exibindo a solução aproximada\n",
        "if solucao_a is not None:\n",
        "    print(f\"Solução aproximada para a equação a): {solucao_a}\")"
      ],
      "metadata": {
        "colab": {
          "base_uri": "https://localhost:8080/"
        },
        "id": "DCwwMnmwKyPv",
        "outputId": "7594f42d-dc16-4976-ba48-6f8e16251eda"
      },
      "execution_count": 16,
      "outputs": [
        {
          "output_type": "stream",
          "name": "stdout",
          "text": [
            "Solução aproximada para a equação a): 1.3585346695144889\n"
          ]
        }
      ]
    },
    {
      "cell_type": "markdown",
      "source": [
        "**b)  xln(2−x)=3−x2 ,  ε=10−6 .**"
      ],
      "metadata": {
        "id": "O_itjkMdLKqn"
      }
    },
    {
      "cell_type": "code",
      "source": [
        "import numpy as np\n",
        "import sympy as sp\n",
        "import matplotlib.pyplot as plt\n",
        "\n",
        "# Definindo a variável simbólica\n",
        "x = sp.Symbol('x')\n",
        "\n",
        "# Função para plotar o gráfico\n",
        "def plot_function(f, intervalo, titulo):\n",
        "    # Função lambdificada para cálculo numérico\n",
        "    f_lambdified = sp.lambdify(x, f)\n",
        "\n",
        "    # Geração de valores de x no intervalo\n",
        "    x_vals = np.linspace(intervalo[0], intervalo[1], 400)\n",
        "\n",
        "    # Avaliação da função para os valores de x\n",
        "    y_vals = f_lambdified(x_vals)\n",
        "\n",
        "    # Plotando o gráfico\n",
        "    plt.plot(x_vals, y_vals, label=f'{f}')\n",
        "    plt.axhline(0, color='black',linewidth=0.5)  # Linha no eixo x\n",
        "    plt.title(titulo)\n",
        "    plt.xlabel('x')\n",
        "    plt.ylabel('f(x)')\n",
        "    plt.grid(True)\n",
        "    plt.legend()\n",
        "    plt.show()\n",
        "\n",
        "# Definição da função f(x) para o item b\n",
        "f_b = x * sp.ln(2 - x) - (3 - x**2)\n",
        "\n",
        "# Plotando o gráfico da função\n",
        "plot_function(f_b, [0, 1.5], 'Gráfico de f(x) para o item b')"
      ],
      "metadata": {
        "colab": {
          "base_uri": "https://localhost:8080/",
          "height": 472
        },
        "id": "4-XBh3rMLT9x",
        "outputId": "9b3ec498-4c17-4e88-fc69-75da8e4eb3c5"
      },
      "execution_count": 18,
      "outputs": [
        {
          "output_type": "display_data",
          "data": {
            "text/plain": [
              "<Figure size 640x480 with 1 Axes>"
            ],
            "image/png": "[encoded data removed]"
          },
          "metadata": {}
        }
      ]
    },
    {
      "cell_type": "code",
      "source": [
        "# Método de Newton-Raphson\n",
        "def newton_raphson(f, f_prime, x0, epsilon):\n",
        "    max_iterations = 1000  # Limite para evitar loops infinitos\n",
        "    x_n = x0\n",
        "    for n in range(max_iterations):\n",
        "        # Próxima iteração de Newton-Raphson\n",
        "        x_n1 = x_n - f(x_n) / f_prime(x_n)\n",
        "\n",
        "        # Verificar se a precisão foi atingida\n",
        "        if abs(x_n1 - x_n) < epsilon:\n",
        "            return x_n1  # Raiz aproximada\n",
        "\n",
        "        # Atualizar o valor de x\n",
        "        x_n = x_n1\n",
        "\n",
        "    print(\"O método não convergiu.\")\n",
        "    return None\n",
        "\n",
        "# Definição da função f(x) para o item b\n",
        "f_b = x * sp.ln(2 - x) - (3 - x**2)\n",
        "\n",
        "# Derivada da função f_b simbolicamente\n",
        "f_b_prime = sp.diff(f_b, x)\n",
        "\n",
        "# Convertendo para funções numéricas\n",
        "f_b_lambdified = sp.lambdify(x, f_b)\n",
        "f_b_prime_lambdified = sp.lambdify(x, f_b_prime)\n",
        "\n",
        "# Aproximação inicial e precisão desejada\n",
        "x0_b = 1.0  # Aproximação inicial escolhida a partir do gráfico\n",
        "epsilon_b = 1e-6  # Precisão desejada\n",
        "\n",
        "# Aplicando o método de Newton-Raphson\n",
        "solucao_b = newton_raphson(f_b_lambdified, f_b_prime_lambdified, x0_b, epsilon_b)\n",
        "\n",
        "# Exibindo a solução aproximada\n",
        "if solucao_b is not None:\n",
        "    print(f\"Solução aproximada para a equação b): {solucao_b}\")\n"
      ],
      "metadata": {
        "colab": {
          "base_uri": "https://localhost:8080/"
        },
        "id": "GCc2-SoFLo_4",
        "outputId": "d54d3382-f8ce-4110-9c71-2a130e5f93d5"
      },
      "execution_count": 20,
      "outputs": [
        {
          "output_type": "stream",
          "name": "stdout",
          "text": [
            "O método não convergiu.\n"
          ]
        },
        {
          "output_type": "stream",
          "name": "stderr",
          "text": [
            "<lambdifygenerated-10>:2: RuntimeWarning: invalid value encountered in log\n",
            "  return x**2 + x*log(2 - x) - 3\n",
            "<lambdifygenerated-11>:2: RuntimeWarning: invalid value encountered in log\n",
            "  return 2*x - x/(2 - x) + log(2 - x)\n"
          ]
        }
      ]
    },
    {
      "cell_type": "markdown",
      "metadata": {
        "id": "9AcFFGyF0X_Z"
      },
      "source": [
        "# **Atividade 5**\n",
        "\n",
        "Crie um código em Python que  faz a fatoração $LU$ das matrizes $A$ de tamanho $n\\times n$ abaixo, sem pivoteamento parcial.\n",
        "\n",
        "a) \\begin{align}\n",
        "       A = \\begin{pmatrix}\n",
        "        1 & 4 & 1\\\\\n",
        "        2 & 1 & 3\\\\\n",
        "        3 & 1 & 2\n",
        "        \\end{pmatrix}.\n",
        "    \\end{align}\n",
        "\n",
        "\n",
        "b) \\begin{align}\n",
        "       A = \\begin{pmatrix}\n",
        "        -2 & 5 & 2 & 1\\\\\n",
        "        1 & 1 & 1 & -3\\\\\n",
        "        9 & 6 & -2 & 4\\\\\n",
        "        -2 & 1 & 0 & 7\n",
        "        \\end{pmatrix}.\n",
        "    \\end{align}\n",
        "\n",
        "\n",
        "Crie uma nova célula de código ou texto abaixo para resolver a atividade.\n",
        "\n"
      ]
    },
    {
      "cell_type": "code",
      "execution_count": 21,
      "metadata": {
        "id": "HNCfkgp22dpl",
        "colab": {
          "base_uri": "https://localhost:8080/"
        },
        "outputId": "615f29bc-539d-4f1f-ac0a-fe3c123e9f1c"
      },
      "outputs": [
        {
          "output_type": "stream",
          "name": "stdout",
          "text": [
            "Matriz L para o item a):\n",
            "[[1.         0.         0.        ]\n",
            " [2.         1.         0.        ]\n",
            " [3.         1.57142857 1.        ]]\n",
            "\n",
            "Matriz U para o item a):\n",
            "[[ 1  4  1]\n",
            " [ 0 -7  1]\n",
            " [ 0  0 -2]]\n",
            "\n",
            "Matriz L para o item b):\n",
            "[[ 1.          0.          0.          0.        ]\n",
            " [-0.5         1.          0.          0.        ]\n",
            " [-4.5         9.33333333  1.          0.        ]\n",
            " [ 1.         -1.33333333 -0.          1.        ]]\n",
            "\n",
            "Matriz U para o item b):\n",
            "[[ -2   5   2   1]\n",
            " [  0   3   2  -2]\n",
            " [  0   0 -11  26]\n",
            " [  0   0   0   3]]\n"
          ]
        }
      ],
      "source": [
        "import numpy as np\n",
        "\n",
        "def lu_decomposition(A):\n",
        "    n = A.shape[0]  # Tamanho da matriz (n x n)\n",
        "    L = np.eye(n)  # Matriz identidade de tamanho n\n",
        "    U = A.copy()   # U começa como uma cópia de A\n",
        "\n",
        "    for i in range(n):\n",
        "        # Iterar sobre as colunas\n",
        "        for j in range(i+1, n):\n",
        "            if U[i, i] == 0:\n",
        "                raise ValueError(\"Divisão por zero detectada!\")\n",
        "            # Calcular o multiplicador para a linha j e a coluna i\n",
        "            L[j, i] = U[j, i] / U[i, i]\n",
        "\n",
        "            # Atualizar a linha j de U\n",
        "            U[j, :] = U[j, :] - L[j, i] * U[i, :]\n",
        "\n",
        "    return L, U\n",
        "\n",
        "# Matriz A_1\n",
        "A_1 = np.array([[1, 4, 1],\n",
        "                [2, 1, 3],\n",
        "                [3, 1, 2]])\n",
        "\n",
        "# Matriz A_2\n",
        "A_2 = np.array([[-2, 5, 2, 1],\n",
        "                [1, 1, 1, -3],\n",
        "                [9, 6, -2, 4],\n",
        "                [-2, 1, 0, 7]])\n",
        "\n",
        "# Realizar a fatoração LU para a matriz A_1\n",
        "L_1, U_1 = lu_decomposition(A_1)\n",
        "print(\"Matriz L para o item a):\")\n",
        "print(L_1)\n",
        "print(\"\\nMatriz U para o item a):\")\n",
        "print(U_1)\n",
        "\n",
        "# Realizar a fatoração LU para a matriz A_2\n",
        "L_2, U_2 = lu_decomposition(A_2)\n",
        "print(\"\\nMatriz L para o item b):\")\n",
        "print(L_2)\n",
        "print(\"\\nMatriz U para o item b):\")\n",
        "print(U_2)\n"
      ]
    }
  ],
  "metadata": {
    "colab": {
      "provenance": [],
      "toc_visible": true
    },
    "kernelspec": {
      "display_name": "Python 3",
      "name": "python3"
    },
    "language_info": {
      "codemirror_mode": {
        "name": "ipython",
        "version": 3
      },
      "file_extension": ".py",
      "mimetype": "text/x-python",
      "name": "python",
      "nbconvert_exporter": "python",
      "pygments_lexer": "ipython3",
      "version": "3.12.2"
    }
  },
  "nbformat": 4,
  "nbformat_minor": 0
}
